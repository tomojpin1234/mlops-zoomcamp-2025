{
 "cells": [
  {
   "cell_type": "code",
   "execution_count": null,
   "id": "4150ffd0",
   "metadata": {},
   "outputs": [],
   "source": [
    "import pandas as pd\n",
    "import numpy as np\n",
    "import matplotlib.pyplot as plt\n",
    "import seaborn as sns\n"
   ]
  },
  {
   "cell_type": "code",
   "execution_count": null,
   "id": "8ff0a118",
   "metadata": {},
   "outputs": [],
   "source": [
    "pd.__version__"
   ]
  },
  {
   "cell_type": "code",
   "execution_count": null,
   "id": "9018d902",
   "metadata": {},
   "outputs": [],
   "source": [
    "jan_data = \"https://d37ci6vzurychx.cloudfront.net/trip-data/yellow_tripdata_2023-01.parquet\"\n",
    "feb_data = \"https://d37ci6vzurychx.cloudfront.net/trip-data/yellow_tripdata_2023-02.parquet\""
   ]
  },
  {
   "cell_type": "code",
   "execution_count": null,
   "id": "64702c55",
   "metadata": {},
   "outputs": [],
   "source": [
    "df = pd.read_parquet(jan_data, engine=\"pyarrow\")"
   ]
  },
  {
   "cell_type": "code",
   "execution_count": null,
   "id": "7c88f189",
   "metadata": {},
   "outputs": [],
   "source": [
    "df.head().T"
   ]
  },
  {
   "cell_type": "code",
   "execution_count": null,
   "id": "65000aa8",
   "metadata": {},
   "outputs": [],
   "source": [
    "df.dtypes"
   ]
  },
  {
   "cell_type": "markdown",
   "id": "13befdf7",
   "metadata": {},
   "source": [
    "## Question 1: How many columns are there?"
   ]
  },
  {
   "cell_type": "code",
   "execution_count": null,
   "id": "47b9ee03",
   "metadata": {},
   "outputs": [],
   "source": [
    "df.columns, len(df.columns), df.shape\n",
    "\n",
    "# Answer is: 19"
   ]
  },
  {
   "cell_type": "markdown",
   "id": "96afd217",
   "metadata": {},
   "source": [
    "## Question 2: What's the standard deviation of the trips duration in January?"
   ]
  },
  {
   "cell_type": "code",
   "execution_count": null,
   "id": "6918ff44",
   "metadata": {},
   "outputs": [],
   "source": [
    "# Calculate duration in minutes\n",
    "df['duration'] = (df['tpep_dropoff_datetime'] - df['tpep_pickup_datetime']).dt.total_seconds() / 60"
   ]
  },
  {
   "cell_type": "code",
   "execution_count": null,
   "id": "390b67c7",
   "metadata": {},
   "outputs": [],
   "source": [
    "df['duration']"
   ]
  },
  {
   "cell_type": "code",
   "execution_count": null,
   "id": "86d1cda9",
   "metadata": {},
   "outputs": [],
   "source": [
    "df.duration.describe()"
   ]
  },
  {
   "cell_type": "code",
   "execution_count": null,
   "id": "86090fd5",
   "metadata": {},
   "outputs": [],
   "source": [
    "durations = df['duration'].dropna()\n",
    "\n",
    "# Calculate mean and std from actual data\n",
    "mean = durations.mean()\n",
    "std_dev = durations.std()\n",
    "round(mean, 2), round(std_dev, 2)\n",
    "\n",
    "# Answer is: 42.59"
   ]
  },
  {
   "cell_type": "markdown",
   "id": "e7ba4c6c",
   "metadata": {},
   "source": [
    "## Question 3: What fraction of the records left after you dropped the outliers?"
   ]
  },
  {
   "cell_type": "code",
   "execution_count": null,
   "id": "9f737f13",
   "metadata": {},
   "outputs": [],
   "source": [
    "((df.duration >= 1) & (df['duration'] <= 60)).mean()\n",
    "# Answer is 98%"
   ]
  },
  {
   "cell_type": "code",
   "execution_count": null,
   "id": "033daa68",
   "metadata": {},
   "outputs": [],
   "source": [
    "df = df[((df.duration >= 1) & (df.duration <= 60))]"
   ]
  },
  {
   "cell_type": "markdown",
   "id": "74f13b22",
   "metadata": {},
   "source": [
    "## Question 4: What's the dimensionality of this matrix (number of columns)?"
   ]
  },
  {
   "cell_type": "code",
   "execution_count": null,
   "id": "40cf44fb",
   "metadata": {},
   "outputs": [],
   "source": [
    "from sklearn.feature_extraction import DictVectorizer\n",
    "from sklearn.linear_model import LinearRegression\n",
    "from sklearn.metrics import mean_squared_error"
   ]
  },
  {
   "cell_type": "code",
   "execution_count": null,
   "id": "0f53a16f",
   "metadata": {},
   "outputs": [],
   "source": [
    "categorical = ['PULocationID', 'DOLocationID']"
   ]
  },
  {
   "cell_type": "code",
   "execution_count": null,
   "id": "2423d614",
   "metadata": {},
   "outputs": [],
   "source": [
    "def read_dataframe(filename, categorical):\n",
    "    df = pd.read_parquet(filename, engine=\"pyarrow\")\n",
    "    df['duration'] = (df['tpep_dropoff_datetime'] - df['tpep_pickup_datetime']).dt.total_seconds() / 60\n",
    "    df = df[((df.duration >= 1) & (df.duration <= 60))]\n",
    "    \n",
    "    df[categorical] = df[categorical].astype(str)\n",
    "    return df"
   ]
  },
  {
   "cell_type": "code",
   "execution_count": null,
   "id": "bbcdda67",
   "metadata": {},
   "outputs": [],
   "source": [
    "df_train = read_dataframe(jan_data, categorical=categorical)"
   ]
  },
  {
   "cell_type": "code",
   "execution_count": null,
   "id": "575a964e",
   "metadata": {},
   "outputs": [],
   "source": [
    "train_dicts = df_train[categorical].to_dict(orient='records')\n",
    "train_dicts\n",
    "dv = DictVectorizer()\n",
    "X_train = dv.fit_transform(train_dicts)\n",
    "\n",
    "target = 'duration'\n",
    "y_train = df[target].values\n",
    "y_train\n",
    "\n",
    "lr = LinearRegression()\n",
    "lr.fit(X_train, y_train)\n",
    "\n",
    "y_pred = lr.predict(X_train)\n",
    "\n",
    "sns.histplot(y_pred, label=\"prediction\")\n",
    "sns.histplot(y_train, label=\"actual\")\n",
    "plt.legend()"
   ]
  },
  {
   "cell_type": "code",
   "execution_count": null,
   "id": "c0414674",
   "metadata": {},
   "outputs": [],
   "source": [
    "len(dv.feature_names_)\n",
    "\n",
    "# Answer is 515"
   ]
  },
  {
   "cell_type": "markdown",
   "id": "19e5dcb7",
   "metadata": {},
   "source": [
    "## Question 5: What's the RMSE on train?"
   ]
  },
  {
   "cell_type": "code",
   "execution_count": null,
   "id": "7f123ea0",
   "metadata": {},
   "outputs": [],
   "source": [
    "mse = mean_squared_error(y_train, y_pred)\n",
    "rmse = np.sqrt(mse)\n",
    "rmse\n",
    "\n",
    "# Answer is 7.64"
   ]
  },
  {
   "cell_type": "markdown",
   "id": "a38dd944",
   "metadata": {},
   "source": [
    "## Question 6: What's the RMSE on validation?"
   ]
  },
  {
   "cell_type": "code",
   "execution_count": null,
   "id": "76ca7847",
   "metadata": {},
   "outputs": [],
   "source": [
    "# df_train = read_dataframe(jan_data, categorical=categorical)\n",
    "df_val = read_dataframe(feb_data, categorical=categorical)"
   ]
  },
  {
   "cell_type": "code",
   "execution_count": null,
   "id": "a82ec59a",
   "metadata": {},
   "outputs": [],
   "source": [
    "dv = DictVectorizer()\n",
    "\n",
    "train_dicts = df_train[categorical].to_dict(orient='records')\n",
    "X_train = dv.fit_transform(train_dicts)\n",
    "\n",
    "val_dicts = df_val[categorical].to_dict(orient='records')\n",
    "X_val = dv.transform(val_dicts)\n",
    "\n",
    "target = 'duration'\n",
    "y_train = df_train[target].values\n",
    "y_val = df_val[target].values\n",
    "\n",
    "lr = LinearRegression()\n",
    "lr.fit(X_train, y_train)\n",
    "\n",
    "y_pred = lr.predict(X_val)\n",
    "\n",
    "sns.histplot(y_pred, label=\"prediction\")\n",
    "sns.histplot(y_train, label=\"actual\")\n",
    "plt.legend()"
   ]
  },
  {
   "cell_type": "code",
   "execution_count": null,
   "id": "45105f40",
   "metadata": {},
   "outputs": [],
   "source": [
    "mse = mean_squared_error(y_val, y_pred)\n",
    "rmse = np.sqrt(mse)\n",
    "rmse\n",
    "\n",
    "# Answer is 7.81"
   ]
  }
 ],
 "metadata": {
  "kernelspec": {
   "display_name": "MLOps-Zoomcamp-2025",
   "language": "python",
   "name": "mlops-zoomcamp-2025"
  },
  "language_info": {
   "codemirror_mode": {
    "name": "ipython",
    "version": 3
   },
   "file_extension": ".py",
   "mimetype": "text/x-python",
   "name": "python",
   "nbconvert_exporter": "python",
   "pygments_lexer": "ipython3",
   "version": "3.13.2"
  }
 },
 "nbformat": 4,
 "nbformat_minor": 5
}
